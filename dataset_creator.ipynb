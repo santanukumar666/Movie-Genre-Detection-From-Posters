{
  "nbformat": 4,
  "nbformat_minor": 0,
  "metadata": {
    "colab": {
      "name": "dataset_creator.ipynb",
      "provenance": [],
      "collapsed_sections": []
    },
    "kernelspec": {
      "name": "python3",
      "display_name": "Python 3"
    },
    "language_info": {
      "name": "python"
    }
  },
  "cells": [
    {
      "cell_type": "code",
      "source": [
        "from google.colab import drive\n",
        "drive.mount('/content/drive')"
      ],
      "metadata": {
        "colab": {
          "base_uri": "https://localhost:8080/"
        },
        "id": "Xh88G-ZtzrsR",
        "outputId": "c1c3f2e8-084e-45b3-b8fc-a17ee8aeb35f"
      },
      "execution_count": null,
      "outputs": [
        {
          "output_type": "stream",
          "name": "stdout",
          "text": [
            "Mounted at /content/drive\n"
          ]
        }
      ]
    },
    {
      "cell_type": "code",
      "execution_count": null,
      "metadata": {
        "id": "Xx8lbsSszGfZ",
        "colab": {
          "base_uri": "https://localhost:8080/"
        },
        "outputId": "5508a554-5075-46fb-8faf-a201ad0bdda9",
        "cellView": "code"
      },
      "outputs": [
        {
          "output_type": "stream",
          "name": "stdout",
          "text": [
            "[1] [0, 2, 3, 4]\n"
          ]
        }
      ],
      "source": [
        "#@title Default title text\n",
        "import requests\n",
        "import os.path\n",
        "import pandas as pd\n",
        "\n",
        "\n",
        "\n",
        "save_path = '/content/drive/Sharedwithme/movie genre prediction from posters/MoviePoster/'\n",
        "\n",
        "\n",
        "\n",
        "CONFIG_PATTERN = 'http://api.themoviedb.org/3/configuration?api_key={key}'\n",
        "KEY = 'xxxxxxxxxxxxxxxxxxxxxxx'\n",
        "\n",
        "def size_str_to_int(x):\n",
        "    return float(\"inf\") if x == 'original' else int(x[1:])\n",
        "\n",
        "def img_saver(id, name):\n",
        "    url = CONFIG_PATTERN.format(key=KEY)\n",
        "    r = requests.get(url)\n",
        "    config = r.json()\n",
        "\n",
        "    base_url = config['images']['base_url']\n",
        "    sizes = config['images']['poster_sizes']\n",
        "\n",
        "\n",
        "    max_size = max(sizes, key=size_str_to_int)\n",
        "\n",
        "    IMG_PATTERN = 'http://api.themoviedb.org/3/movie/{imdbid}/images?api_key={key}' \n",
        "    r = requests.get(IMG_PATTERN.format(key=KEY,imdbid=id))\n",
        "    api_response = r.json()\n",
        "\n",
        "    \n",
        "    poster = api_response['posters'][0]\n",
        "    rel_path = poster['file_path']\n",
        "    url = \"{0}{1}{2}\".format(base_url, max_size, rel_path)\n",
        "\n",
        "    r = requests.get(url)\n",
        "    filetype = r.headers['content-type'].split('/')[-1]\n",
        "    filename = 'poster_{0}.{1}'.format(name, filetype) \n",
        "    \n",
        "    completeName = os.path.join(save_path, filename)\n",
        "    \n",
        "    with open(completeName,'wb') as w:\n",
        "        w.write(r.content)\n",
        "        \n",
        "df = pd.read_csv(\"/content/drive/MyDrive/movie genre prediction using poster/dataset creator/MovieData_3.csv\")\n",
        "\n",
        "z = []\n",
        "k = []\n",
        "\n",
        "for i in range(5) :\n",
        "    try:\n",
        "        a = str(df.loc[i, \"id\"])\n",
        "        b = str(df.loc[i, \"Title\"])\n",
        "  \n",
        "        img_saver(a, b)\n",
        "\n",
        "    except IndexError:\n",
        "        z.append(i)\n",
        "        \n",
        "\n",
        "    except:\n",
        "        k.append(i)\n",
        "\n",
        "print(z, k)"
      ]
    }
  ]
}